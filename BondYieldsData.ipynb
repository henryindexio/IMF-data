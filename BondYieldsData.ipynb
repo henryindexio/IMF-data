{
 "cells": [
  {
   "cell_type": "code",
   "execution_count": 1,
   "metadata": {},
   "outputs": [],
   "source": [
    "# This file imports country bond ratings, yields, and defaults. It computes the average yield and the number of defaults\n",
    "# for each rating group.\n"
   ]
  },
  {
   "cell_type": "code",
   "execution_count": 2,
   "metadata": {},
   "outputs": [],
   "source": [
    "import pandas as pd\n",
    "\n",
    "Fitch = pd.read_excel('E:\\Downloads\\Data Incubator\\IMF\\FitchRatings.xlsx')\n",
    "\n",
    "BondYields= pd.read_excel('E:\\Downloads\\Data Incubator\\IMF\\BondYields.xlsx', 'Data Long Format')"
   ]
  },
  {
   "cell_type": "code",
   "execution_count": 3,
   "metadata": {},
   "outputs": [],
   "source": [
    "import numpy as np\n",
    "\n",
    "FitchCountry = Fitch['Country']\n",
    "FitchYear = Fitch.loc[:,'Date'].apply(lambda x:x.year)\n",
    "FitchRating = Fitch.loc[:,'Foreign currency long-term']\n",
    "\n",
    "nanArr = np.zeros(1000)\n",
    "nanArr.fill(np.nan)\n",
    "\n",
    "AAA = []\n",
    "AAp = []\n",
    "AA = []\n",
    "AAm = [] \n",
    "Ap = []\n",
    "A = []\n",
    "Am = []\n",
    "BBBp = []\n",
    "BBB = []\n",
    "BBBm = []\n",
    "BBp = []\n",
    "BB = []\n",
    "BBm = [] \n",
    "Bp = []\n",
    "B = []\n",
    "Bm = []\n",
    "CCCp = []\n",
    "CCC = []\n",
    "CCCm = []\n",
    "CC = []\n",
    "C = []\n",
    "RD = []\n",
    "DDD = []\n",
    "DD = []\n",
    "D = []\n",
    "\n",
    "for i in range(len(Fitch)):\n",
    "    Country1 = FitchCountry.iloc[i]\n",
    "    Year1 = FitchYear.iloc[i]\n",
    "    Rating1 = FitchRating.iloc[i]\n",
    "    YieldLine =  BondYields[(BondYields['country.name'] == Country1) & (BondYields['year'] == Year1) ]\n",
    "    Yield1 = YieldLine['value']\n",
    "    if not(Yield1.empty):\n",
    "        if Rating1=='AAA':\n",
    "            AAA.append(Yield1.iloc[0])\n",
    "        if Rating1=='AA+':\n",
    "            AAp.append(Yield1.iloc[0])\n",
    "        if Rating1=='AA':\n",
    "            AA.append(Yield1.iloc[0])\n",
    "        if Rating1=='AA-':\n",
    "            AAm.append(Yield1.iloc[0])\n",
    "        if Rating1=='A+':\n",
    "            Ap.append(Yield1.iloc[0])\n",
    "        if Rating1=='A':\n",
    "            A.append(Yield1.iloc[0])\n",
    "        if Rating1=='A-':\n",
    "            Am.append(Yield1.iloc[0])\n",
    "        if Rating1=='BBB+':\n",
    "            BBBp.append(Yield1.iloc[0])\n",
    "        if Rating1=='BBB':\n",
    "            BBB.append(Yield1.iloc[0])\n",
    "        if Rating1=='BBB-':\n",
    "            BBBm.append(Yield1.iloc[0])\n",
    "        if Rating1=='BB+':\n",
    "            BBp.append(Yield1.iloc[0])\n",
    "        if Rating1=='BB':\n",
    "            BB.append(Yield1.iloc[0])\n",
    "        if Rating1=='BB-':\n",
    "            BBm.append(Yield1.iloc[0])\n",
    "        if Rating1=='B+':\n",
    "            Bp.append(Yield1.iloc[0])\n",
    "        if Rating1=='B':\n",
    "            B.append(Yield1.iloc[0])\n",
    "        if Rating1=='B-':\n",
    "            Bm.append(Yield1.iloc[0])\n",
    "        if Rating1=='CCC+':\n",
    "            CCCp.append(Yield1.iloc[0])\n",
    "        if Rating1=='CCC':\n",
    "            CCC.append(Yield1.iloc[0])\n",
    "        if Rating1=='CCC-':\n",
    "            CCCm.append(Yield1.iloc[0])\n",
    "        if Rating1=='CC':\n",
    "            CC.append(Yield1.iloc[0])\n",
    "        if Rating1=='C':\n",
    "            C.append(Yield1.iloc[0])\n",
    "        if Rating1=='RD':\n",
    "            RD.append(Yield1.iloc[0])\n",
    "        if Rating1=='DDD':\n",
    "            DDD.append(Yield1.iloc[0])\n",
    "        if Rating1=='DD':\n",
    "            DD.append(Yield1.iloc[0])\n",
    "        if Rating1=='D':\n",
    "            D.append(Yield1.iloc[0])"
   ]
  },
  {
   "cell_type": "code",
   "execution_count": 4,
   "metadata": {},
   "outputs": [
    {
     "name": "stderr",
     "output_type": "stream",
     "text": [
      "c:\\users\\henry_000\\appdata\\local\\programs\\python\\python36\\lib\\site-packages\\numpy\\core\\fromnumeric.py:2909: RuntimeWarning: Mean of empty slice.\n",
      "  out=out, **kwargs)\n",
      "c:\\users\\henry_000\\appdata\\local\\programs\\python\\python36\\lib\\site-packages\\numpy\\core\\_methods.py:80: RuntimeWarning: invalid value encountered in double_scalars\n",
      "  ret = ret.dtype.type(ret / rcount)\n"
     ]
    }
   ],
   "source": [
    "MeanAAA = np.mean(AAA)\n",
    "MeanAAp = np.mean(AAp)\n",
    "MeanAA = np.mean(AA)\n",
    "MeanAAm = np.mean(AAm)\n",
    "MeanAp = np.mean(Ap)\n",
    "MeanA = np.mean(A)\n",
    "MeanAm = np.mean(Am)\n",
    "MeanBBBp = np.mean(BBBp)\n",
    "MeanBBB = np.mean(BBB)\n",
    "MeanBBBm = np.mean(BBBm)\n",
    "MeanBBp = np.mean(BBp)\n",
    "MeanBB = np.mean(BB)\n",
    "MeanBBm = np.mean(BBm)\n",
    "MeanBp = np.mean(Bp)\n",
    "MeanB = np.mean(B)\n",
    "MeanBm = np.mean(Bm)\n",
    "MeanCCCp = np.mean(CCCp)\n",
    "MeanCCC = np.mean(CCC)\n",
    "MeanCCCm = np.mean(CCCm)\n",
    "MeanCC = np.mean(CC)\n",
    "MeanC = np.mean(C)\n",
    "MeanRD = np.mean(RD)\n",
    "MeanDDD = np.mean(DDD)\n",
    "MeanDD = np.mean(DD)\n",
    "MeanD = np.mean(D)\n",
    "\n",
    "MeanYields = np.array([MeanAAA,MeanAAp,MeanAA,MeanAAm,MeanAp,MeanA,MeanAm,MeanBBBp,MeanBBB,MeanBBBm,MeanBBp,MeanBBm,MeanBB,MeanBp,MeanB,MeanBm,MeanCCCp,MeanCCC,MeanCCCm,MeanCC,MeanC,MeanRD,MeanDDD,MeanDD,MeanD])\n",
    "RatingLabels = ['0','AAA','AA','A','BBB','BB','B','C']\n"
   ]
  },
  {
   "cell_type": "code",
   "execution_count": 5,
   "metadata": {},
   "outputs": [],
   "source": [
    "MeanAAA = np.mean([AAA])\n",
    "MeanAApm = np.mean(np.array(AAp+AA+AAm))\n",
    "MeanApm = np.mean(np.array(Ap+A+Am))\n",
    "MeanBBB = np.mean(np.array(BBBp+BBB+BBBm))\n",
    "MeanBBpm = np.mean(np.array(BBp+BB+BBm))\n",
    "MeanBpm = np.mean(np.array(Bp+B+Bm))\n",
    "MeanCCCpm = np.mean(np.array(CCCp+CCC+CCCm))\n",
    "MeanGroupYields = np.array([MeanAAA,MeanAApm,MeanApm,MeanBBB,MeanBBpm,MeanBpm,MeanCCCpm])\n"
   ]
  },
  {
   "cell_type": "code",
   "execution_count": 6,
   "metadata": {},
   "outputs": [
    {
     "name": "stdout",
     "output_type": "stream",
     "text": [
      "[ 0  0  0  0  2  7 16]\n"
     ]
    }
   ],
   "source": [
    "CountryDefault = np.array(['Argentina','Venezuela','Russia','Ukraine','Pakistan','Ecuador','Ukraine','Peru','Argentina','Moldova','Uruguay','Nicaragua','Dominican Republic','Belize','Nicaragua','Ecuador','Jamaica','Greece','Belize','Greece','Jamaica','Cyprus','Argentina','Ukraine','Mozambique'])\n",
    "YearDefault = np.array([1989,1998,1998,1998,1999,1999,2000,2000,2001,2002,2003,2003,2005,2006,2008,2008,2010,2012,2012,2012,2013,2013,2014,2015,2016])\n",
    "RatingDefault = np.array(['B-','BB','CCC+','B-','CCC+','B-','CCC-','BB-','CCC-','CCC+','B-','CCC+','B-','CCC-','CCC+','CCC+','CCC+','C','CC','C','B-','CCC-','CCC','CC','B-'])\n",
    "\n",
    "BBDefault = 0\n",
    "BDefault = 0\n",
    "CDefault = 0\n",
    "\n",
    "for i in range(len(RatingDefault)):\n",
    "    Rate1 = RatingDefault[i]\n",
    "    if (Rate1 == 'BB+') or (Rate1 == 'BB') or (Rate1 == 'BB-'):\n",
    "        BBDefault = BBDefault + 1\n",
    "    if (Rate1 == 'B+') or (Rate1 == 'B') or (Rate1 == 'B-'):\n",
    "        BDefault = BDefault + 1\n",
    "    if (Rate1 == 'CCC+') or (Rate1 == 'CCC') or (Rate1 == 'CCC-') or (Rate1 == 'CC') or (Rate1 == 'C'):\n",
    "        CDefault = CDefault + 1\n",
    "\n",
    "NDefaults = np.array([0,0,0,0,BBDefault,BDefault,CDefault])\n",
    "print(NDefaults)"
   ]
  },
  {
   "cell_type": "code",
   "execution_count": 7,
   "metadata": {},
   "outputs": [
    {
     "name": "stdout",
     "output_type": "stream",
     "text": [
      "(7,)\n",
      "(7,)\n",
      "(8,)\n"
     ]
    }
   ],
   "source": [
    "import pickle\n",
    "\n",
    "print(np.shape(MeanGroupYields))\n",
    "f = open('MeanGroupYields.pckl', 'wb')\n",
    "pickle.dump(MeanGroupYields, f)\n",
    "f.close()\n",
    "\n",
    "print(np.shape(NDefaults))\n",
    "f2 = open('NDefaults.pckl', 'wb')\n",
    "pickle.dump(NDefaults, f2)\n",
    "f2.close()\n",
    "\n",
    "print(np.shape(RatingLabels))\n",
    "f3 = open('RatingLabels.pckl', 'wb')\n",
    "pickle.dump(RatingLabels, f3)\n",
    "f3.close()"
   ]
  }
 ],
 "metadata": {
  "kernelspec": {
   "display_name": "Python 3",
   "language": "python",
   "name": "python3"
  },
  "language_info": {
   "codemirror_mode": {
    "name": "ipython",
    "version": 3
   },
   "file_extension": ".py",
   "mimetype": "text/x-python",
   "name": "python",
   "nbconvert_exporter": "python",
   "pygments_lexer": "ipython3",
   "version": "3.6.3"
  }
 },
 "nbformat": 4,
 "nbformat_minor": 2
}
