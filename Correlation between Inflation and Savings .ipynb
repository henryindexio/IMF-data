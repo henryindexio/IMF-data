{
 "cells": [
  {
   "cell_type": "code",
   "execution_count": null,
   "metadata": {},
   "outputs": [],
   "source": [
    "# This notebook graphs the correlation betwen inflation and savings over time for each country in the IMF.\n",
    "# Overall, the correlations between inflation and savings is not strong."
   ]
  },
  {
   "cell_type": "code",
   "execution_count": 2,
   "metadata": {},
   "outputs": [],
   "source": [
    "import pandas as pd\n",
    "import numpy as np\n",
    "\n",
    "WEO = pd.read_excel(\"E:\\Downloads\\Data Incubator\\IMF\\WEOApr2018all.xlsx\")"
   ]
  },
  {
   "cell_type": "code",
   "execution_count": 3,
   "metadata": {},
   "outputs": [],
   "source": [
    "inflat = WEO[WEO['WEO Subject Code'] == 'PCPIPCH']\n",
    "savings = WEO[WEO['WEO Subject Code'] == 'NGSD_NGDP']"
   ]
  },
  {
   "cell_type": "code",
   "execution_count": 11,
   "metadata": {},
   "outputs": [
    {
     "name": "stdout",
     "output_type": "stream",
     "text": [
      "[-0.40774563 -0.41008084  0.1253176  -0.24953639 -0.15974925 -0.08785291\n",
      " -0.4842595  -0.5389283   0.67183924 -0.64588484  0.15656739 -0.65580604\n",
      " -0.77748273  0.32898817  0.26651113 -0.3687979   0.12085729 -0.11328028\n",
      "  0.55459935  0.16871368  0.17403535 -0.37989211 -0.31716003  0.44249912\n",
      "  0.03820604 -0.21726401  0.28280857 -0.50872708  0.04476454  0.01539799\n",
      "  0.20987852 -0.16314815 -0.26516624 -0.18341929  0.23603211 -0.8758659\n",
      "  0.50206572  0.69926007 -0.56080442  0.29354917 -0.1313978  -0.06819024\n",
      " -0.11112945  0.02109774 -0.35242916 -0.47195075 -0.18497953  0.06799697\n",
      " -0.11370027  0.23619819  0.18573325  0.23809906 -0.28059335 -0.36382065\n",
      "  0.64736164 -0.1405984  -0.5061013   0.0662995  -0.01654177 -0.11625712\n",
      "  0.38189915  0.23811603 -0.19920302  0.75146874 -0.54181884 -0.40218514\n",
      " -0.31583797 -0.51180342 -0.49711737 -0.03869717  0.52746869  0.38128557\n",
      " -0.20982492 -0.24592527 -0.46883879 -0.27972375 -0.77912673 -0.32474798\n",
      " -0.12725566  0.21613035 -0.31087074 -0.57365968 -0.76306848 -0.4463055\n",
      " -0.25328229 -0.01129567  0.01202901  0.06233984  0.09907979 -0.1905052\n",
      " -0.48285738  0.42649686  0.75356605 -0.05599195 -0.61508213 -0.04456274\n",
      " -0.49820824 -0.54419291 -0.40475458  0.04681686 -0.15376609 -0.10494285\n",
      " -0.18037415  0.05829858 -0.41887069 -0.00257712  0.46993105 -0.03709222\n",
      " -0.33317019  0.36784237  0.49013432  0.34025465 -0.00736835  0.1702794\n",
      "  0.22561963  0.36537303 -0.06422265 -0.29949439  0.0441535  -0.41577724\n",
      "  0.40068321 -0.87472771  0.32844289  0.76064415 -0.63107535  0.06778747\n",
      " -0.33251187  0.26898727 -0.15831955 -0.3702896  -0.22247425 -0.56241037\n",
      " -0.12437274 -0.56494663  0.02115853 -0.20297877  0.05060666 -0.06388561\n",
      " -0.11753466  0.10888724 -0.22491698  0.37064963  0.28998015  0.58894275\n",
      "  0.57159544 -0.51334933 -0.25585646 -0.2111765  -0.4875701  -0.46984201\n",
      " -0.09063933]\n"
     ]
    }
   ],
   "source": [
    "r_count = np.zeros(len(inflat))-100\n",
    "countries = inflat['Country'].unique()\n",
    "\n",
    "for i in range(0,len(countries)):\n",
    "    country = countries[i]\n",
    "    c_inflat = inflat[inflat['Country'] == country]\n",
    "    d_inflat = c_inflat.iloc[:, 9:36]\n",
    "    c_savings = savings[savings['Country'] == country]\n",
    "    d_savings = c_savings.iloc[:, 9:36]\n",
    "    in_sv = pd.concat([d_inflat, d_savings],keys=['in', 'sv'])\n",
    "    in_sv[in_sv==0] = np.nan\n",
    "    in_sv = in_sv.dropna(axis=1, how='any')\n",
    "    in_sv[in_sv=='--'] = np.nan\n",
    "    in_val = np.float32(in_sv[0:1].values)\n",
    "    sv_val = np.float32(in_sv[1:2].values)\n",
    "    if (in_val.size> 9) & (sv_val.size> 9):\n",
    "        r_val= np.corrcoef(in_val,sv_val)\n",
    "        r_count[i] = r_val[0,1]\n",
    "r_count = r_count[~np.isnan(r_count)]\n",
    "r_count = r_count[~(r_count==-100)]\n",
    "print(r_count)"
   ]
  },
  {
   "cell_type": "code",
   "execution_count": 13,
   "metadata": {},
   "outputs": [
    {
     "name": "stdout",
     "output_type": "stream",
     "text": [
      "-0.0848357125956\n"
     ]
    }
   ],
   "source": [
    "print(np.mean(r_count))"
   ]
  },
  {
   "cell_type": "code",
   "execution_count": 12,
   "metadata": {},
   "outputs": [
    {
     "data": {
      "image/png": "[encoded data removed]",
      "text/plain": [
       "<matplotlib.figure.Figure at 0x20d1ca4f518>"
      ]
     },
     "metadata": {},
     "output_type": "display_data"
    }
   ],
   "source": [
    "import matplotlib.pyplot as plt\n",
    "from matplotlib import colors\n",
    "from matplotlib.ticker import PercentFormatter\n",
    "\n",
    "# the histogram of the data\n",
    "plt.hist(r_count, bins=20)\n",
    "\n",
    "plt.xlabel('Correlation(r)')\n",
    "plt.ylabel('Count')\n",
    "plt.title('Correlation between Inflation and Saving for Countries in the IMF ')\n",
    "\n",
    "plt.show()"
   ]
  }
 ],
 "metadata": {
  "kernelspec": {
   "display_name": "Python 3",
   "language": "python",
   "name": "python3"
  },
  "language_info": {
   "codemirror_mode": {
    "name": "ipython",
    "version": 3
   },
   "file_extension": ".py",
   "mimetype": "text/x-python",
   "name": "python",
   "nbconvert_exporter": "python",
   "pygments_lexer": "ipython3",
   "version": "3.6.3"
  }
 },
 "nbformat": 4,
 "nbformat_minor": 2
}
