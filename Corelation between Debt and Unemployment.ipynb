{
 "cells": [
  {
   "cell_type": "code",
   "execution_count": 3,
   "metadata": {},
   "outputs": [],
   "source": [
    "# This notebook graphs the correlation betwen debt and unemployment over time for each country in the IMF.\n",
    "# Overall, there is a postive correlation between debt and unemployment."
   ]
  },
  {
   "cell_type": "code",
   "execution_count": null,
   "metadata": {},
   "outputs": [],
   "source": [
    "import pandas as pd\n",
    "import numpy as np\n",
    "\n",
    "WEO = pd.read_excel(\"E:\\Downloads\\Data Incubator\\IMF\\WEOApr2018all.xlsx\")"
   ]
  },
  {
   "cell_type": "code",
   "execution_count": 147,
   "metadata": {},
   "outputs": [],
   "source": [
    "debt = WEO[WEO['WEO Subject Code'] == 'GGXWDG_NGDP']\n",
    "unemploy = WEO[WEO['WEO Subject Code'] == 'LUR']"
   ]
  },
  {
   "cell_type": "code",
   "execution_count": 171,
   "metadata": {},
   "outputs": [
    {
     "name": "stdout",
     "output_type": "stream",
     "text": [
      "[ 0.6403817   0.67377897  0.3098204   0.88005717  0.82241659 -0.30426032\n",
      " -0.37397162 -0.05442757  0.33390148  0.08909057 -0.32705147  0.95805055\n",
      "  0.94656194  0.24963935  0.77679479  0.60883442  0.79453769 -0.23421194\n",
      " -0.31902504  0.02700949  0.14303426  0.91683962  0.58041705  0.88402317\n",
      "  0.87386973  0.00615736  0.89311653  0.82192303 -0.47123521  0.96080104\n",
      "  0.59251639  0.93389792  0.01359881  0.34574212  0.16877     0.33553213\n",
      "  0.81726883  0.95752158  0.21271698  0.352032    0.94987566  0.43020462\n",
      "  0.36624682  0.55306765  0.08332391  0.24557557  0.47364435  0.51343663\n",
      "  0.47625529  0.09081041  0.73163901 -0.38107879  0.94643381  0.80513433\n",
      " -0.67803048  0.37959618 -0.14126432 -0.21809405  0.28529888  0.88166832\n",
      "  0.56617269  0.66182608  0.77510768  0.93884263  0.86984786  0.94799147\n",
      "  0.27718276]\n"
     ]
    }
   ],
   "source": [
    "r_count = np.zeros(len(debt))-100\n",
    "countries = debt['Country'].unique()\n",
    "\n",
    "for i in range(0,len(countries)):\n",
    "    country = countries[i]\n",
    "    c_debt = debt[debt['Country'] == country]\n",
    "    d_debt = c_debt.iloc[:, 9:36]\n",
    "    c_unemploy = unemploy[unemploy['Country'] == country]\n",
    "    d_unemploy = c_unemploy.iloc[:, 9:36]\n",
    "    de_un = pd.concat([d_debt, d_unemploy],keys=['de', 'un'])\n",
    "    de_un[de_un==0] = np.nan\n",
    "    de_un = de_un.dropna(axis=1, how='any')\n",
    "    de_val = np.float32(de_un[0:1].values)\n",
    "    un_val = np.float32(de_un[1:2].values)\n",
    "    if (de_val.size> 9) & (un_val.size> 9):\n",
    "        r_val= np.corrcoef(de_val,un_val)\n",
    "        r_count[i] = r_val[0,1]\n",
    "r_count = r_count[~np.isnan(r_count)]\n",
    "r_count = r_count[~(r_count==-100)]\n",
    "print(r_count)"
   ]
  },
  {
   "cell_type": "code",
   "execution_count": 203,
   "metadata": {},
   "outputs": [
    {
     "name": "stdout",
     "output_type": "stream",
     "text": [
      "0.427868439533\n"
     ]
    }
   ],
   "source": [
    "print(np.mean(r_count))"
   ]
  },
  {
   "cell_type": "code",
   "execution_count": 202,
   "metadata": {},
   "outputs": [
    {
     "data": {
      "image/png": "[encoded data removed]",
      "text/plain": [
       "<matplotlib.figure.Figure at 0x18f584ed208>"
      ]
     },
     "metadata": {},
     "output_type": "display_data"
    }
   ],
   "source": [
    "import matplotlib.pyplot as plt\n",
    "from matplotlib import colors\n",
    "from matplotlib.ticker import PercentFormatter\n",
    "\n",
    "# the histogram of the data\n",
    "plt.hist(r_count, bins=20)\n",
    "\n",
    "plt.xlabel('Correlation(r)')\n",
    "plt.ylabel('Count')\n",
    "plt.title('Correlation between National Debt and Unemployment for Countries in the IMF ')\n",
    "\n",
    "plt.show()"
   ]
  }
 ],
 "metadata": {
  "kernelspec": {
   "display_name": "Python 3",
   "language": "python",
   "name": "python3"
  },
  "language_info": {
   "codemirror_mode": {
    "name": "ipython",
    "version": 3
   },
   "file_extension": ".py",
   "mimetype": "text/x-python",
   "name": "python",
   "nbconvert_exporter": "python",
   "pygments_lexer": "ipython3",
   "version": "3.6.3"
  }
 },
 "nbformat": 4,
 "nbformat_minor": 2
}
