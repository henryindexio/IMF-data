{
 "cells": [
  {
   "cell_type": "code",
   "execution_count": 31,
   "metadata": {},
   "outputs": [],
   "source": [
    "import pickle\n",
    "\n",
    "f = open('X.pckl', 'rb')\n",
    "X = pickle.load(f)\n",
    "f.close()\n",
    "\n",
    "f2 = open('Y.pckl', 'rb')\n",
    "Y = pickle.load(f2)\n",
    "f2.close()"
   ]
  },
  {
   "cell_type": "code",
   "execution_count": 35,
   "metadata": {},
   "outputs": [],
   "source": [
    "from sklearn import preprocessing\n",
    "from sklearn import linear_model\n",
    "from sklearn import svm\n",
    "from sklearn import metrics\n",
    "from sklearn.model_selection import train_test_split\n",
    "import pandas as pd\n",
    "import numpy as np\n",
    "import tensorflow as tf \n",
    "import tensorflow.contrib.slim as slim\n",
    "\n",
    "imputer = preprocessing.Imputer()\n",
    "transformed_X = imputer.fit_transform(X)\n",
    "X_scaled = preprocessing.scale(transformed_X)\n",
    "Y_reshape = np.reshape(Y,(len(Y),1))\n",
    "\n",
    "test_sizes = [519/719,419/719,319/719,219/719,119/719]\n",
    "NTrials = 50\n",
    "LinScores = np.zeros((np.size(test_sizes),NTrials))\n",
    "SVMScores = np.zeros((np.size(test_sizes),NTrials))\n",
    "NNScores = np.zeros((np.size(test_sizes),NTrials))\n",
    "\n",
    "for i in range(0,np.size(test_sizes)):\n",
    "    for j in range(0,NTrials):\n",
    "\n",
    "        X_train, X_test, Y_train, Y_test = train_test_split(X_scaled, Y, test_size=test_sizes[i], random_state=j)\n",
    "        \n",
    "        # Linear Regression\n",
    "        reg = linear_model.LinearRegression()\n",
    "        reg.fit(X_train,Y_train)\n",
    "        YLin = reg.predict(X_test)    \n",
    "        LinScores[i,j] = metrics.r2_score(Y_test,YLin)\n",
    "        \n",
    "        # Support Vector Machine\n",
    "        clf = svm.SVR()\n",
    "        clf.fit(X_train,Y_train)\n",
    "        YSVM = clf.predict(X_test)\n",
    "        SVMScores[i,j] = metrics.r2_score(Y_test,YSVM)\n",
    "        \n",
    "        # Neural Network\n",
    "        Y_train = np.reshape(Y_train,(len(Y_train),1))\n",
    "        Y_test = np.reshape(Y_test,(len(Y_test),1))\n",
    "        \n",
    "        sess = tf.Session()\n",
    "\n",
    "        x = tf.placeholder(dtype = tf.float32, shape = [None, np.shape(X)[1]])\n",
    "        y = tf.placeholder(dtype = tf.float32, shape = [None,1])\n",
    "\n",
    "        net = slim.stack(x, slim.fully_connected, [32])\n",
    "        net = slim.fully_connected(net, 1)\n",
    "\n",
    "        loss_op = tf.reduce_mean(tf.losses.mean_squared_error(y,net))\n",
    "        optimizer =tf.train.GradientDescentOptimizer(0.01)\n",
    "        train_op = optimizer.minimize(loss_op)\n",
    "\n",
    "        sess.run(tf.global_variables_initializer())\n",
    "\n",
    "        for k in range(1000):\n",
    "            sess.run(train_op, feed_dict={x: X_train, y: Y_train})\n",
    "\n",
    "        YNN = net.eval(feed_dict={x: X_test}, session=sess)\n",
    "        NNScores[i,j] = metrics.r2_score(Y_test,YNN)\n",
    "        sess.close()\n",
    "        tf.reset_default_graph()"
   ]
  },
  {
   "cell_type": "code",
   "execution_count": 36,
   "metadata": {},
   "outputs": [
    {
     "name": "stdout",
     "output_type": "stream",
     "text": [
      "1.2157416930623574e-07\n",
      "Multiple Comparison of Means - Tukey HSD,FWER=0.05\n",
      "=============================================\n",
      "group1 group2 meandiff  lower   upper  reject\n",
      "---------------------------------------------\n",
      " Lin     NN    0.0615   0.037   0.086   True \n",
      " Lin    SVM    0.0342   0.0097  0.0587  True \n",
      "  NN    SVM   -0.0273  -0.0518 -0.0028  True \n",
      "---------------------------------------------\n",
      "['Lin' 'NN' 'SVM']\n"
     ]
    }
   ],
   "source": [
    "import scipy.stats as stats\n",
    "from statsmodels.stats.multicomp import pairwise_tukeyhsd\n",
    "from statsmodels.stats.multicomp import MultiComparison\n",
    "\n",
    "LinScoresMean = np.mean(LinScores, axis=1)\n",
    "SVMScoresMean = np.mean(SVMScores, axis=1)\n",
    "NNScoresMean = np.mean(NNScores, axis=1)\n",
    "\n",
    "LinLearned = LinScores[-1,:]\n",
    "SVMLearned = SVMScores[-1,:]\n",
    "NNLearned = NNScores[-1,:]\n",
    "FValue, PValue = stats.f_oneway(LinLearned, SVMLearned, NNLearned)\n",
    "print(PValue)\n",
    "\n",
    "LinLabels = np.repeat(np.array('Lin'), len(LinLearned))\n",
    "SVMLabels = np.repeat(np.array('SVM'), len(SVMLearned))\n",
    "NNLabels = np.repeat(np.array('NN'), len(NNLearned))\n",
    "\n",
    "DataLearned = np.hstack([LinLearned,SVMLearned,NNLearned])\n",
    "LabelsLearned = np.hstack([LinLabels,SVMLabels,NNLabels])\n",
    "\n",
    "mc = MultiComparison(DataLearned,LabelsLearned)\n",
    "result = mc.tukeyhsd()\n",
    "print(result)\n",
    "print(mc.groupsunique)"
   ]
  },
  {
   "cell_type": "code",
   "execution_count": 45,
   "metadata": {},
   "outputs": [
    {
     "data": {
      "image/png": "[encoded data removed]",
      "text/plain": [
       "<Figure size 432x288 with 1 Axes>"
      ]
     },
     "metadata": {},
     "output_type": "display_data"
    }
   ],
   "source": [
    "import matplotlib.pyplot as plt\n",
    "TrainExam = [200,300,400,500,600]\n",
    "plt.plot(TrainExam,NNScoresMean,label=\"Neural Network\")\n",
    "plt.plot(TrainExam,SVMScoresMean,label=\"Support Vector Machine\")\n",
    "plt.plot(TrainExam,LinScoresMean,label=\"Linear Regression\")\n",
    "plt.ylabel('Score (R Squared)')\n",
    "plt.xlabel('Number of Training Examples')\n",
    "plt.title('Credit Rating Predictions')\n",
    "plt.legend(bbox_to_anchor=(1.05, 1), loc=2, borderaxespad=0.)\n",
    "plt.show()"
   ]
  }
 ],
 "metadata": {
  "kernelspec": {
   "display_name": "Python 3",
   "language": "python",
   "name": "python3"
  },
  "language_info": {
   "codemirror_mode": {
    "name": "ipython",
    "version": 3
   },
   "file_extension": ".py",
   "mimetype": "text/x-python",
   "name": "python",
   "nbconvert_exporter": "python",
   "pygments_lexer": "ipython3",
   "version": "3.6.5"
  }
 },
 "nbformat": 4,
 "nbformat_minor": 2
}
